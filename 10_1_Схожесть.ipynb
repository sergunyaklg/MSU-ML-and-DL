{
  "nbformat": 4,
  "nbformat_minor": 0,
  "metadata": {
    "colab": {
      "provenance": []
    },
    "kernelspec": {
      "name": "python3",
      "display_name": "Python 3"
    },
    "language_info": {
      "name": "python"
    }
  },
  "cells": [
    {
      "cell_type": "markdown",
      "source": [
        "# 10.1. Схожесть\n",
        "Заполните пропуски в следующем коде, для того чтобы получилась система определения близости пользователей и объектов на основе [SVD-разложения](https://colab.research.google.com/drive/1ldt1uUd8bJwiuUHrp2xmTKjELYVLcdzZ#scrollTo=iB0F4K6Kxf2p), как было показано на лекции. \n",
        "\n",
        "Для этого требуется реализовать несколько функций, озаглавленных в приведённом ниже шаблоне класса. Функция `_get_svd()` должна выполнять svd-преобразование и возвращать матрицы P и Q (см. [лекцию](https://colab.research.google.com/drive/1aignzmtgTjC8HErXwUJzWlqDcmR8NdCg#scrollTo=LpPUNrmdXf0M)). Функция `get_similar_users` должна ранжировать всех пользователей по мере близости к искомому пользователю и возвращать индексы самых близких из них. Функция `get_similar_items` - аналогично, но по отношению к объектам. В качестве аргументов последние две функции принимают (1) количество похожих пользователей и объектов, индексы которых нужно вернуть, и (2) индекс текущего пользователя или объекта."
      ],
      "metadata": {
        "id": "XqVUJG60_Q7k"
      }
    },
    {
      "cell_type": "code",
      "source": [
        "\n",
        "import numpy as np\n",
        "from numpy.linalg import svd\n",
        "from sklearn.neighbors import NearestNeighbors\n",
        "\n",
        "\n",
        "class similaryty_analizer:\n",
        "    def __init__(self, R: np.array):\n",
        "        self.R = R\n",
        "        self.n_users = R.shape[0]\n",
        "        self.n_items = R.shape[1]\n",
        "\n",
        "    def _get_svd(self, new_dim: int):\n",
        "        U, S, V = svd(self.R)\n",
        "\n",
        "        U = U[:, :new_dim]\n",
        "        S = np.diag(S[:new_dim])\n",
        "        V = V[:new_dim, :]\n",
        "\n",
        "        P = np.matmul(U, S)\n",
        "        Q = V.T\n",
        "        return P, Q\n",
        "\n",
        "    def get_similar_users(self, n_users: int, user_id: int):\n",
        "        if n_users > self.n_users - 1:\n",
        "            n_users = self.n_users - 1\n",
        "\n",
        "        P, Q = self._get_svd(self.n_users)\n",
        "\n",
        "        nn = NearestNeighbors(n_neighbors=n_users + 1)\n",
        "        nn = nn.fit(P)\n",
        "\n",
        "        user = P[user_id, :]\n",
        "        neighbours = nn.kneighbors(user.reshape(1, -1), return_distance=False)[:, 1:].ravel()\n",
        "        return neighbours\n",
        "\n",
        "    def get_similar_items(self, n_items: int, item_id: int):\n",
        "        if n_items > self.n_items - 1:\n",
        "            n_items = self.n_items - 1\n",
        "            \n",
        "        P, Q = self._get_svd(self.n_items)\n",
        "\n",
        "        nn = NearestNeighbors(n_neighbors=n_items + 1)\n",
        "        nn = nn.fit(Q)\n",
        "\n",
        "        item = Q[item_id, :]\n",
        "        neighbours = nn.kneighbors(item.reshape(1, -1), return_distance=False)[:, 1:].ravel()\n",
        "        return neighbours\n",
        "r1 = [1, 0, 0]\n",
        "r2 = [1, 1, 0]\n",
        "r3 = [1, 1, 1]\n",
        "\n",
        "R = np.array([r1, r2, r3])\n",
        "R\n",
        "array([[1, 0, 0],\n",
        "       [1, 1, 0],\n",
        "       [1, 1, 1]])\n",
        "SA = similaryty_analizer(R)\n",
        "SA.get_similar_users(1, 0)\n",
        "array([1], dtype=int64)\n",
        "SA.get_similar_users(2, 0)\n",
        "array([1, 2], dtype=int64)\n",
        "SA.get_similar_users(2, 1)\n",
        "array([0, 2], dtype=int64)"
      ],
      "metadata": {
        "id": "R8BnN4eK_WM7"
      },
      "execution_count": null,
      "outputs": []
    },
    {
      "cell_type": "markdown",
      "source": [
        "# Пример входных и выходных данных"
      ],
      "metadata": {
        "id": "0wRWYdblt3NH"
      }
    },
    {
      "cell_type": "code",
      "source": [
        "r1 = [1, 0, 0]\n",
        "r2 = [1, 1, 0]\n",
        "r3 = [1, 1, 1]\n",
        "\n",
        "R = np.array([r1, r2, r3])\n",
        "R"
      ],
      "metadata": {
        "colab": {
          "base_uri": "https://localhost:8080/"
        },
        "id": "ryn4bKzYt9N1",
        "outputId": "89ca40ee-25a3-4b6c-b358-e3dd37931fee"
      },
      "execution_count": null,
      "outputs": [
        {
          "output_type": "execute_result",
          "data": {
            "text/plain": [
              "array([[1, 0, 0],\n",
              "       [1, 1, 0],\n",
              "       [1, 1, 1]])"
            ]
          },
          "metadata": {},
          "execution_count": 9
        }
      ]
    },
    {
      "cell_type": "code",
      "source": [
        "SA = similaryty_analizer(R)\n",
        "SA.get_similar_users(1, 0)"
      ],
      "metadata": {
        "colab": {
          "base_uri": "https://localhost:8080/"
        },
        "id": "Wq76aaZhuGpI",
        "outputId": "8f74498a-408e-4fe7-d608-924c3e71c4f8"
      },
      "execution_count": null,
      "outputs": [
        {
          "output_type": "execute_result",
          "data": {
            "text/plain": [
              "array([1])"
            ]
          },
          "metadata": {},
          "execution_count": 10
        }
      ]
    },
    {
      "cell_type": "code",
      "source": [
        "SA.get_similar_users(2, 0)"
      ],
      "metadata": {
        "colab": {
          "base_uri": "https://localhost:8080/"
        },
        "id": "I_WrbCd3uSOQ",
        "outputId": "56355b2d-63e2-4e31-e1c8-4cd834d46b56"
      },
      "execution_count": null,
      "outputs": [
        {
          "output_type": "execute_result",
          "data": {
            "text/plain": [
              "array([1, 2])"
            ]
          },
          "metadata": {},
          "execution_count": 11
        }
      ]
    },
    {
      "cell_type": "code",
      "source": [
        "SA.get_similar_users(2, 1)"
      ],
      "metadata": {
        "colab": {
          "base_uri": "https://localhost:8080/"
        },
        "id": "boxKlC_huTEA",
        "outputId": "2455e413-3ab2-4ab3-c6a5-96256b4f14c6"
      },
      "execution_count": null,
      "outputs": [
        {
          "output_type": "execute_result",
          "data": {
            "text/plain": [
              "array([0, 2])"
            ]
          },
          "metadata": {},
          "execution_count": 12
        }
      ]
    },
    {
      "cell_type": "markdown",
      "source": [
        "## Примечания\n",
        "\n",
        "\n",
        "1. Возвращайте результат в виде `np.array`. В случае использования `list` могут возникнуть ошибки при проверке.\n",
        "\n",
        "2. В задаче запрещено использовать библиотеку pandas.\n",
        "\n",
        "3. Обратите внимание, что SVD-преобразование и SVD-разложение - это **разные** операции! В лекциях про это упоминается. SVD-разложение используется для получения трёх матриц: U, S, V. SVD-преобразование используется для снижения размерности. В нём нужно взять от этих матриц первые N строк/столбцов (в данном задании N указан в параметрах функции)."
      ],
      "metadata": {
        "id": "BpORj9aP4g9m"
      }
    }
  ]
}