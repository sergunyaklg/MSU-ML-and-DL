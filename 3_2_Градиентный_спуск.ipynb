{
  "cells": [
    {
      "cell_type": "markdown",
      "metadata": {
        "id": "zVKa9zcWdm-p"
      },
      "source": [
        "# 3.2 Градиентный спуск\n",
        "\n",
        "В этом задании нам предстоит реализовать классический алгоритм градиентного спуска для обучения модели логистической регрессии.\n",
        "\n",
        "Алгоритм выполнения этого задания следующий:\n",
        "\n",
        "* На основе посчитанных в первом задании частных производных, напишем функцию подсчета градиента бинарной кросс-энтропии по параметрам модели\n",
        "\n",
        "* Напишем функцию обновления весов по посчитанным градиентам \n",
        "\n",
        "* Напишем функцию тренировки модели\n",
        "\n",
        "Замечание:\n",
        "Тренировка модели проводится в несколько циклов, в рамках каждого из которых мы обновим веса модели, основываясь на предсказании для **каждого** объекта из датасета. Такие циклы называются *эпохами*. То есть одна эпоха - это набор обновлений весов, реализованный согласно посчитанным для каждого объекта из датасета ошибкам модели.\n",
        "\n",
        "Вам необходимо реализовать обучение модели в несколько эпох. Их количество задается параметром функции. В рамках каждой эпохи необходимо пройти циклом по всем объектам обучающей выборки и обновить веса модели."
      ]
    },
    {
      "attachments": {},
      "cell_type": "markdown",
      "metadata": {
        "id": "zrTqdyBid_G8"
      },
      "source": [
        "Шаблон кода для заполнения:"
      ]
    },
    {
      "cell_type": "code",
      "execution_count": 1,
      "metadata": {
        "id": "CCM4EIh_d8-n"
      },
      "outputs": [],
      "source": [
        "import numpy as np\n",
        "\n",
        "np.random.seed(42)\n",
        "\n",
        "def gradient(y_true: int, y_pred: float, x: np.array) -> np.array:\n",
        "    grad1=[]\n",
        "    for i in range(len(x)):\n",
        "        grad1+=[x[i]*((1-y_true)*y_pred-y_true*(1-y_pred))]\n",
        "    grad = np.array(grad1)\n",
        "    pass\n",
        "    return grad\n",
        "\n",
        "def update(alpha: np.array, gradient: np.array, lr: float):\n",
        "    alpha_new = alpha-lr*gradient\n",
        "    return alpha_new\n",
        "\n",
        "def train(\n",
        "    alpha0: np.array, x_train: np.array, y_train: np.array, lr: float, num_epoch: int\n",
        "):\n",
        "    alpha = alpha0.copy()\n",
        "    for epo in range(num_epoch):\n",
        "        for i, x in enumerate(x_train):\n",
        "            x=np.array(list(x)+[1]) \n",
        "            y_pred=1/(1+(np.exp(-1*(np.dot(x, alpha)))))\n",
        "            g=gradient(y_train[i], y_pred, x)\n",
        "            alpha=update(alpha, g, lr)\n",
        "            pass\n",
        "    return alpha"
      ]
    },
    {
      "cell_type": "markdown",
      "metadata": {
        "id": "zDcPxeLueFIk"
      },
      "source": [
        "# Замечания:\n",
        "\n",
        "1. В случае, если у Вас возникли сложности с выполнением первого задания и, как следствие, у Вас не выходит сделать это, мы рекомендуем подробно ознакомиться с главой **Производные $\\frac{\\partial H}{\\partial \\omega_i}$** нашей [лекции](https://colab.research.google.com/drive/1xjX_YnXcRr8HSiYLByMHxEIAADqs7QES?usp=sharing).\n",
        "\n",
        "2. Обращайте внимание на названия и порядок аргументов в сдаваемых на проверку функциях - они должны совпадать с тем, что указано в шаблоне кода.\n",
        "\n",
        "3. Обратите внимание, что матрица объект-признак в описании параметров функций обозначает переменную типа numpy.array(), каждый элемент которой - объект типа numpy.array() - вектор признаков соответствующего объекта.\n",
        "\n",
        "4. Считайте, что свободный коэффициент a0 находится **в конце** списка alpha."
      ]
    }
  ],
  "metadata": {
    "colab": {
      "provenance": []
    },
    "kernelspec": {
      "display_name": "Python 3",
      "name": "python3"
    },
    "language_info": {
      "codemirror_mode": {
        "name": "ipython",
        "version": 3
      },
      "file_extension": ".py",
      "mimetype": "text/x-python",
      "name": "python",
      "nbconvert_exporter": "python",
      "pygments_lexer": "ipython3",
      "version": "3.10.6"
    }
  },
  "nbformat": 4,
  "nbformat_minor": 0
}
