{
  "cells": [
    {
      "cell_type": "markdown",
      "metadata": {
        "id": "FszmDROF12gL"
      },
      "source": [
        "## Домашнее задание №7\n",
        "### Генерация поэзии с помощью нейронных сетей: шаг 1\n",
        "##### Авторы: [Радослав Нейчев](https://www.linkedin.com/in/radoslav-neychev/), Горохов Олег\n",
        "\n",
        "Ваша основная задача: научиться генерировать стихи с помощью простой рекуррентной нейронной сети (Vanilla RNN). В качестве корпуса текстов для обучения будет выступать роман в стихах \"Евгений Онегин\" Александра Сергеевича Пушкина."
      ]
    },
    {
      "cell_type": "code",
      "execution_count": 1,
      "metadata": {
        "id": "VK6EUBMt12gN"
      },
      "outputs": [],
      "source": [
        "# Не меняйте блок кода ниже! Здесь указаны все необходимые import-ы\n",
        "# __________start of block__________\n",
        "import string\n",
        "import os\n",
        "from random import sample\n",
        "\n",
        "import numpy as np\n",
        "import torch, torch.nn as nn\n",
        "import torch.nn.functional as F\n",
        "\n",
        "from IPython.display import clear_output\n",
        "\n",
        "import matplotlib.pyplot as plt\n",
        "%matplotlib inline\n",
        "# __________end of block__________"
      ]
    },
    {
      "cell_type": "code",
      "execution_count": 2,
      "metadata": {
        "id": "VEC9Irlo12gO",
        "colab": {
          "base_uri": "https://localhost:8080/"
        },
        "outputId": "7880dbd0-d714-428f-e0fe-67d47ab1a6f2"
      },
      "outputs": [
        {
          "output_type": "stream",
          "name": "stdout",
          "text": [
            "cuda device is available\n"
          ]
        }
      ],
      "source": [
        "# Не меняйте блок кода ниже! \n",
        "# __________start of block__________\n",
        "device = torch.device('cuda') if torch.cuda.is_available() else torch.device('cpu')\n",
        "print('{} device is available'.format(device))\n",
        "# __________end of block__________"
      ]
    },
    {
      "cell_type": "markdown",
      "metadata": {
        "id": "MPenWOy01Ooa",
        "outputId": "a92e8e33-e009-4bd4-ac12-3b1b5e1cd3f2"
      },
      "source": [
        "#### 1. Загрузка данных."
      ]
    },
    {
      "cell_type": "code",
      "execution_count": 3,
      "metadata": {
        "id": "OhD8UJzN12gP",
        "colab": {
          "base_uri": "https://localhost:8080/"
        },
        "outputId": "48e494f9-6c79-44c0-a651-31584d3b4f72"
      },
      "outputs": [
        {
          "output_type": "stream",
          "name": "stdout",
          "text": [
            "--2023-04-09 07:02:01--  https://raw.githubusercontent.com/MSUcourses/Data-Analysis-with-Python/main/Deep%20Learning/onegin_hw07.txt\n",
            "Resolving raw.githubusercontent.com (raw.githubusercontent.com)... 185.199.108.133, 185.199.109.133, 185.199.110.133, ...\n",
            "Connecting to raw.githubusercontent.com (raw.githubusercontent.com)|185.199.108.133|:443... connected.\n",
            "HTTP request sent, awaiting response... 200 OK\n",
            "Length: 262521 (256K) [text/plain]\n",
            "Saving to: ‘./onegin.txt’\n",
            "\n",
            "./onegin.txt        100%[===================>] 256.37K  --.-KB/s    in 0.01s   \n",
            "\n",
            "2023-04-09 07:02:01 (22.4 MB/s) - ‘./onegin.txt’ saved [262521/262521]\n",
            "\n"
          ]
        }
      ],
      "source": [
        "# do not change the code in the block below\n",
        "# __________start of block__________\n",
        "!wget https://raw.githubusercontent.com/MSUcourses/Data-Analysis-with-Python/main/Deep%20Learning/onegin_hw07.txt -O ./onegin.txt\n",
        "    \n",
        "with open('onegin.txt', 'r') as iofile:\n",
        "    text = iofile.readlines()\n",
        "    \n",
        "text = \"\".join([x.replace('\\t\\t', '').lower() for x in text]) # Убираем лишние символы табуляций, приводим все буквы к нижнему регистру\n",
        "# __________end of block__________"
      ]
    },
    {
      "cell_type": "markdown",
      "source": [
        "Выведем несколько первых символов входного текста. Видим, что символы табуляций удалены, буквы приведены к нижнему регистру. Символы \\n мы оставляем - чтобы научить сеть генерировать символ \\n, когда нужно перейти на новую строку."
      ],
      "metadata": {
        "id": "rR6n1UmvZ8DC"
      }
    },
    {
      "cell_type": "code",
      "source": [
        "text[:36]"
      ],
      "metadata": {
        "colab": {
          "base_uri": "https://localhost:8080/",
          "height": 35
        },
        "id": "ksrWh_hvZsY_",
        "outputId": "10202d70-8f0f-4381-f1a1-8772dbbf41c9"
      },
      "execution_count": 4,
      "outputs": [
        {
          "output_type": "execute_result",
          "data": {
            "text/plain": [
              "'\\ni\\n\\n«мой дядя самых честных правил,\\n'"
            ],
            "application/vnd.google.colaboratory.intrinsic+json": {
              "type": "string"
            }
          },
          "metadata": {},
          "execution_count": 4
        }
      ]
    },
    {
      "cell_type": "markdown",
      "metadata": {
        "id": "XQYpmGfR_gJ8"
      },
      "source": [
        "#### 2. Построение словаря и предобработка текста\n",
        "В данном задании требуется построить языковую модель на уровне символов. Приведем весь текст к нижнему регистру и построим словарь из всех символов в доступном корпусе текстов. Также добавим технический токен `<sos>`."
      ]
    },
    {
      "cell_type": "code",
      "execution_count": 5,
      "metadata": {
        "id": "FyYTS2kC12gQ",
        "colab": {
          "base_uri": "https://localhost:8080/"
        },
        "outputId": "f8a88192-44e7-4c77-ab14-c3c36be57d19"
      },
      "outputs": [
        {
          "output_type": "stream",
          "name": "stdout",
          "text": [
            "Seems fine!\n"
          ]
        }
      ],
      "source": [
        "# Не меняйте блок кода ниже!\n",
        "# __________start of block__________\n",
        "tokens = sorted(set(text.lower())) + ['<sos>'] # Строим множество всех токенов-символов и добавляем к нему служебный токен <sos>\n",
        "num_tokens = len(tokens)\n",
        "\n",
        "assert num_tokens == 84, \"Check the tokenization process\"\n",
        "\n",
        "token_to_idx = {x: idx for idx, x in enumerate(tokens)} # Строим словарь с ключами-токенами и значениями-индексами в списке токенов\n",
        "idx_to_token = {idx: x for idx, x in enumerate(tokens)} # Строим обратный словарь (чтобы по индексу можно было получить токен)\n",
        "\n",
        "assert len(tokens) == len(token_to_idx), \"Mapping should be unique\"\n",
        "\n",
        "print(\"Seems fine!\")\n",
        "\n",
        "\n",
        "text_encoded = [token_to_idx[x] for x in text]\n",
        "# __________end of block__________"
      ]
    },
    {
      "cell_type": "markdown",
      "metadata": {
        "id": "ITona8rr12gQ"
      },
      "source": [
        "__Ваша задача__: обучить классическую рекуррентную нейронную сеть (Vanilla RNN) предсказывать следующий символ на полученном корпусе текстов и сгенерировать последовательность длины 100 для фиксированной начальной фразы.\n",
        "\n",
        "Вы можете воспользоваться кодом с занятия №6 или же обратиться к следующим ссылкам:\n",
        "* Замечательная статья за авторством Andrej Karpathy об использовании RNN: [link](http://karpathy.github.io/2015/05/21/rnn-effectiveness/)\n",
        "* Пример char-rnn от Andrej Karpathy: [github repo](https://github.com/karpathy/char-rnn)\n",
        "* Замечательный пример генерации поэзии Шекспира: [github repo](https://github.com/spro/practical-pytorch/blob/master/char-rnn-generation/char-rnn-generation.ipynb)\n",
        "\n",
        "Данное задание является достаточно творческим. Не страшно, если поначалу оно вызывает затруднения. Последняя ссылка в списке выше может быть особенно полезна в данном случае.\n",
        "\n",
        "Далее для вашего удобства реализована функция, которая генерирует случайный батч размера `batch_size` из строк длиной `seq_length`. Вы можете использовать его при обучении модели."
      ]
    },
    {
      "cell_type": "code",
      "execution_count": 6,
      "metadata": {
        "id": "B1R2KoN212gQ"
      },
      "outputs": [],
      "source": [
        "# Не меняйте код ниже\n",
        "# __________start of block__________\n",
        "batch_size = 256 # Размер батча. Батч - это набор последовательностей символов.\n",
        "seq_length = 100 # Максимальная длина одной последовательности символов в батче\n",
        "start_column = np.zeros((batch_size, 1), dtype=int) + token_to_idx['<sos>'] # Добавляем в начало каждой строки технический символ - для определения начального состояния сети\n",
        "\n",
        "def generate_chunk():\n",
        "    global text_encoded, start_column, batch_size, seq_length\n",
        "\n",
        "    start_index = np.random.randint(0, len(text_encoded) - batch_size*seq_length - 1) # Случайным образом выбираем индекс начального символа в батче\n",
        "    # Строим непрерывный батч.\n",
        "    # Для этого выбираем в исходном тексте подпоследовательность, которая начинается с индекса start_index и имеет размер batch_size*seq_length.\n",
        "    # Затем мы делим эту подпоследовательность на batch_size последовательностей размера seq_length. Это и будет батч, матрица размера batch_size*seq_length.\n",
        "    # В каждой строке матрицы будут указаны индексы \n",
        "    data = np.array(text_encoded[start_index:start_index + batch_size*seq_length]).reshape((batch_size, -1)) \n",
        "    yield np.hstack((start_column, data))\n",
        "# __________end of block__________    "
      ]
    },
    {
      "cell_type": "markdown",
      "metadata": {
        "id": "SHohQt0V12gR"
      },
      "source": [
        "Пример батча:"
      ]
    },
    {
      "cell_type": "code",
      "execution_count": 7,
      "metadata": {
        "id": "jyuWYgeZ12gR",
        "outputId": "805dae67-33c1-4f12-b7cb-a2fef28530d2",
        "colab": {
          "base_uri": "https://localhost:8080/"
        }
      },
      "outputs": [
        {
          "output_type": "execute_result",
          "data": {
            "text/plain": [
              "array([[83, 45, 56, ..., 46, 50, 48],\n",
              "       [83, 56, 50, ...,  1, 47, 61],\n",
              "       [83, 50, 57, ..., 59, 50, 48],\n",
              "       ...,\n",
              "       [83, 76, 49, ..., 59, 57,  1],\n",
              "       [83, 62, 63, ..., 68, 64, 49],\n",
              "       [83, 45, 55, ..., 54, 57, 64]])"
            ]
          },
          "metadata": {},
          "execution_count": 7
        }
      ],
      "source": [
        "next(generate_chunk())"
      ]
    },
    {
      "cell_type": "markdown",
      "metadata": {
        "id": "MZ5vfEKM12gS"
      },
      "source": [
        "Далее вам предстоит написать код для обучения модели и генерации текста."
      ]
    },
    {
      "cell_type": "code",
      "execution_count": 14,
      "metadata": {
        "id": "7XBmwWxp12gS"
      },
      "outputs": [],
      "source": [
        "class CharRNN(nn.Module):\n",
        "    def __init__(self, num_tokens=num_tokens, emb_size=16, hidden_size=64, num_layers=1):\n",
        "        super().__init__()\n",
        "        self.emb = nn.Embedding(num_tokens, emb_size)\n",
        "        self.rnn = nn.RNN(emb_size, hidden_size, num_layers, batch_first=True)\n",
        "        self.fc = nn.Linear(hidden_size, num_tokens)\n",
        "        \n",
        "    def forward(self, x, hidden=None):\n",
        "        x = self.emb(x)\n",
        "        x, hidden = self.rnn(x, hidden)\n",
        "        x = self.fc(x)\n",
        "        return x, hidden"
      ]
    },
    {
      "cell_type": "code",
      "source": [
        "# Создаем модель и переносим ее на выбранное устройство\n",
        "char_rnn = CharRNN().to(device)\n",
        "\n",
        "# Задаем функцию потерь и оптимизатор\n",
        "loss_function = nn.CrossEntropyLoss()\n",
        "optimizer = torch.optim.Adam(char_rnn.parameters())\n",
        "\n",
        "# Количество эпох и интервал для вывода графика\n",
        "num_epochs = 1000\n",
        "plot_interval = 50\n",
        "\n",
        "history = []\n",
        "\n",
        "for epoch in range(num_epochs):\n",
        "    # Генерируем батчи\n",
        "    for batch in generate_chunk():\n",
        "        # Обнуляем градиенты\n",
        "        optimizer.zero_grad()\n",
        "        \n",
        "        # Преобразуем данные и переносим их на выбранное устройство\n",
        "        batch = torch.tensor(batch, dtype=torch.int64).to(device)\n",
        "        inputs = batch[:, :-1]\n",
        "        targets = batch[:, 1:]\n",
        "\n",
        "        # Прогоняем данные через модель и вычисляем функцию потерь\n",
        "        outputs, _ = char_rnn(inputs)\n",
        "        loss = loss_function(outputs.contiguous().view(-1, num_tokens), targets.contiguous().view(-1))\n",
        "\n",
        "        # Обновляем параметры модели\n",
        "        loss.backward()\n",
        "        optimizer.step()\n",
        "\n",
        "        # Записываем значение функции потерь\n",
        "        history.append(loss.item())\n",
        "    \n",
        "    # Выводим график функции потерь\n",
        "    if (epoch + 1) % plot_interval == 0:\n",
        "        clear_output(True)\n",
        "        plt.plot(history, label='loss')\n",
        "        plt.legend()\n",
        "        plt.show()"
      ],
      "metadata": {
        "colab": {
          "base_uri": "https://localhost:8080/",
          "height": 430
        },
        "id": "z9KQgLca06NE",
        "outputId": "57b7119d-9d3c-4053-ac40-c2e5318ec47f"
      },
      "execution_count": 15,
      "outputs": [
        {
          "output_type": "display_data",
          "data": {
            "text/plain": [
              "<Figure size 640x480 with 1 Axes>"
            ],
            "image/png": "[encoded data removed]"
          },
          "metadata": {}
        }
      ]
    },
    {
      "cell_type": "markdown",
      "metadata": {
        "id": "YOq8SszD12gS"
      },
      "source": [
        "В качестве иллюстрации ниже доступен график значений функции потерь, построенный в ходе обучения авторской сети (сам код для ее обучения вам и предстоит написать)."
      ]
    },
    {
      "cell_type": "code",
      "execution_count": null,
      "metadata": {
        "id": "p1DVfcmS12gS",
        "outputId": "4cac4ac1-85ce-4088-e67b-5d422008408c"
      },
      "outputs": [
        {
          "data": {
            "image/png": "[encoded data removed]",
            "text/plain": [
              "<Figure size 432x288 with 1 Axes>"
            ]
          },
          "metadata": {
            "needs_background": "light"
          },
          "output_type": "display_data"
        }
      ],
      "source": []
    },
    {
      "cell_type": "markdown",
      "metadata": {
        "id": "aPLGR7Wz12gS"
      },
      "source": [
        "Шаблон функции `generate_sample` также доступен ниже. Вы можете как дозаполнить его, так и написать свою собственную функцию с нуля. Не забывайте, что все примеры в обучающей выборке начинались с токена `<sos>`."
      ]
    },
    {
      "cell_type": "code",
      "execution_count": 18,
      "metadata": {
        "id": "e7ZX-JGi12gS"
      },
      "outputs": [],
      "source": [
        "def generate_sample(char_rnn, seed_phrase=None, max_length=200, temperature=1.0, device=device):\n",
        "    char_rnn.eval()\n",
        "    with torch.no_grad():\n",
        "        if seed_phrase is not None:\n",
        "            x_sequence = [token_to_idx['<sos>']] + [token_to_idx[token] for token in seed_phrase]\n",
        "        else: \n",
        "            x_sequence = [token_to_idx['<sos>']]\n",
        "\n",
        "        x_sequence = torch.tensor([x_sequence], dtype=torch.int64).to(device)\n",
        "        hidden = None\n",
        "\n",
        "        for _ in range(max_length - len(seed_phrase)):\n",
        "            outputs, hidden = char_rnn(x_sequence[:, -1].unsqueeze(1), hidden)\n",
        "            probabilities = F.softmax(outputs / temperature, dim=-1)\n",
        "            next_token = torch.multinomial(probabilities.squeeze(), num_samples=1)\n",
        "            x_sequence = torch.cat([x_sequence, next_token.unsqueeze(1)], dim=1)\n",
        "\n",
        "    return ''.join([tokens[ix] for ix in x_sequence.cpu().data.numpy()[0]])"
      ]
    },
    {
      "cell_type": "markdown",
      "metadata": {
        "id": "if0Zdsq_12gS"
      },
      "source": [
        "Пример текста сгенерированного обученной моделью доступен ниже. Не страшно, что в тексте много несуществующих слов. Используемая модель очень проста: это простая классическая RNN."
      ]
    },
    {
      "cell_type": "code",
      "execution_count": 19,
      "metadata": {
        "id": "yF-Iuqmw12gS",
        "outputId": "c0c9501c-ae80-4dba-e17c-28352c760e6f",
        "colab": {
          "base_uri": "https://localhost:8080/"
        }
      },
      "outputs": [
        {
          "output_type": "stream",
          "name": "stdout",
          "text": [
            "Phrase 1:\n",
            " мой дядя самых честных правилевстьяна неюна бын призло мыл ча блющят в этрання,\n",
            "танину,\n",
            "просон их цедшаснатья.\n",
            "\n",
            "\n",
            "\n",
            "xxx\n",
            "вою вхелва лада ней,\n",
            "ивой,\n",
            "глы,\n",
            "до быр волтывный из казойбая малушила с нагонносенек, никков вос, онашно смут совженно татья о льна гдругак, иговон,\n",
            "ень беех внизы илыть вы непленно?\n",
            "не поцалинывигво, я жрушней\n",
            "онев, голодала,\n",
            "мосольний, нед) тужинаю,\n",
            "а муры, еповахько закты светдыт мнем тыл гороной,\n",
            "и шик техский? –\n",
            "пто тащелкию хоркогр моска\n",
            "и гостельки,\n",
            "галик иня, что нескнег\n",
            "\n",
            "\n",
            "Phrase 2:\n",
            " мой дядя самых честных правильгока;\n",
            "но, рупа встобко,\n",
            "нам ха она премилинья.\n",
            "он увее голукбосчастит\n",
            "пис и был спрамно, чей\n",
            "был, сжали,\n",
            "и татьольный овсегуна\n",
            "в я лыщат.\n",
            "их гчуже ралета в врападчу,\n",
            "обю болет постразнали ей испланном упребсто,\n",
            "уне отру преверет чту соучив мельки трепими;\n",
            "и н, треча на гранно,\n",
            "оталья,\n",
            "кмумани: лится,\n",
            "у людрагный,\n",
            "огето\n",
            "изной мчизилы кевелитье ей страсти онь нитляной каближьти\n",
            "угдан и сонал и вахно вееду,\n",
            "каланятьной нечко сочровумедая,\n",
            "презавало\n",
            "стыря приву,\n",
            " понна\n",
            "\n",
            "\n",
            "Phrase 3:\n",
            " мой дядя самых честных правилянь их бываль, половайьи дрыц браюстной когла увале гладною ресель;\n",
            "оени шум изве длезьнать,\n",
            "об белевил звеской булся нагоне,\n",
            "ой уметний нечер?\n",
            "мовой в хосты,\n",
            "сдкан\n",
            "нама тань;\n",
            "тои\n",
            "лачиторпой,\n",
            "вонеый поестуе? далкой пестнаны;\n",
            "воздрака: что снати мерны! назоскной\n",
            "взs\n",
            "замиетый,\n",
            "и вслый и вленя, отедить?.\n",
            "\n",
            "\n",
            "ivii\n",
            "\n",
            "разсьвнимозны во—\n",
            "на тупосе\n",
            "де ше жно диль женный д за мели зумой все тетом оны пребодень\n",
            "молтыла роде етча, радный это обларею тала стала, учжаржи\n",
            "пнихоя сом \n",
            "\n",
            "\n",
            "Phrase 4:\n",
            " мой дядя самых честных правильсольна жной, таща правалки трад; забили.\n",
            "но равиша\n",
            "а бекпетнот\n",
            "ее мрастала? стой\n",
            "с пом оздемальша отверовы рикам,\n",
            "в левний радоверий, скроста\n",
            "ил –-нам соелин\n",
            "о.. оe гры-то поддильвис…\n",
            "он\n",
            "и изданно сначев! поду.\n",
            "девитьки подривел… дет\n",
            "повросма,\n",
            "в явольный варях дасом лонудною пет дердце ль;\n",
            "ой хобовястные жердый товожд, нег на в зопчувой… слевсть казерова, преснаястишкоб диле\n",
            "порет нивезны ворукин\n",
            "сода? чеечано\n",
            "и дрок, балетьых я орая,\n",
            "данина\n",
            "бе дерог\n",
            "ебою – чемилач\n",
            "\n",
            "\n",
            "Phrase 5:\n",
            " мой дядя самых честных правильскулкий бы слеска;\n",
            "и всё молень\n",
            "не «сна,\n",
            "я нета,\n",
            "ний, шен, про нак дым во звушна пужмая внагоб брерть, какомно бругди лети кескел у пульный? был ваше мо рат им и наш?\n",
            "a биз обълю,\n",
            "батья!\n",
            "ном…\n",
            "усердей изыминечьни поцулена бес тал певвор,\n",
            "канама провабля льго теся,\n",
            "лина\n",
            "и пушнныебяхы,\n",
            "уж не она наго лина всё вйлень в зиждо 5бариние весналье\n",
            "и поглеков отодла вереной\n",
            "е гвишалься другали\n",
            "а глива цишон,\n",
            "у стотон варивалтий,\n",
            "а дерены варшой кбеньмен!\n",
            "матьявашя,\n",
            "устой сло\n",
            "\n",
            "\n",
            "Phrase 6:\n",
            " мой дядя самых честных правильней укроска\n",
            "рогоры\n",
            "еднет, но женны\n",
            "мотой, васне,\n",
            "новы,\n",
            "вод ружал\n",
            "от сней млеясь,\n",
            "пусуста,\n",
            "ажраскит деввеняв трагый\n",
            "назибядит прозя прсогоная нел так роподать\n",
            "я пиэя ус чибена;\n",
            "на…мине, ночей л, оплысь\n",
            "как легит колярно всезым; но порастна!\n",
            "оныч, непелно ж поозаду;\n",
            "упявный рубое иму, при имам пеская,\n",
            "татьяд,\n",
            "в за отразвонной бледей рапоры\n",
            "а свету, му придахь ону спуты,\n",
            "пороршуц\n",
            "ведлого? вож вослицей,\n",
            "ваше\n",
            "пуснать епрдце но волеглял сатьем\n",
            "не взовы изразвой фледа!\n",
            "\n",
            "\n",
            "\n",
            "\n",
            "\n",
            "Phrase 7:\n",
            " мой дядя самых честных правиледьне прив в бямениках ни погкана хорной чиской.\n",
            "сузду тальноень шихон\n",
            "и сиром ото слуть.\n",
            "бым трявенных с нетоки.\n",
            "а в иные  лучпыхежнокой вхю скоростия любыв, своствых посчук:\n",
            "куй раша нам бедит спороры\n",
            "нож та шурикке брарявстве тоблось.\n",
            "\n",
            "пошанимаренья,\n",
            "– розерив,\n",
            "в соты хемз:\n",
            "сной,\n",
            "и дришта,\n",
            "то гоэтатьог? вожных, проз болгной прляна убели\n",
            "илюшить\n",
            "но, моввер\n",
            "…\n",
            "звошдновет,\n",
            "встаене сорот неграки бым ущланеньех ничьдо,\n",
            "не другты,\n",
            "лы! мучты ростой однижалиный прид стеча\n",
            "\n",
            "\n",
            "Phrase 8:\n",
            " мой дядя самых честных правилиж берых урогуг но быт.\n",
            "\n",
            "\n",
            "\n",
            "xxiv\n",
            "\n",
            "но ошил ялью коже, доль,\n",
            "мна полный чум\n",
            "ни могот,\n",
            "тцадех пострава мутла,\n",
            "к тамся сулалиа\n",
            "пе ражет серажий привон груста,\n",
            "ей с стравиц перел.\n",
            "помя,\n",
            "что это, и снолы чтво. тахьу, нашти зарочля, лобмет бозной веридте носижилем\n",
            "постать\n",
            "лю гороны,\n",
            "но рестуны, натьеленый я дости эепавон кабой,\n",
            "одночи денно.\n",
            "ен радас вонн\n",
            "вечузь,\n",
            "и стоал;\n",
            "иня\n",
            "сне левственья де ей дема, содилиненке и рибени ум горшет остда и добитайно овгевн.\n",
            "н мов тихой мор\n",
            "\n",
            "\n",
            "Phrase 9:\n",
            " мой дядя самых честных правильцих занепилью продной:\n",
            "свыю шежут холведный.\n",
            "инебла мимесен он чина, проствой я -биа пакотогу сбеных пегли то ногласти но рояшлят; от диманий крижитнось\n",
            "от, шаминскелья!\n",
            "\n",
            "\n",
            "\n",
            "xxvii мой шомечем постадь ле;\n",
            " дом… царними, онты\n",
            "в апридую мромей\n",
            "них но, мою лум\n",
            "емо»t;\n",
            "ильдав\n",
            "кер, холнок, (т усеветы перезий бечает;\n",
            " он бестет репериле,\n",
            "перофноз\n",
            "ныть ком нимя нах довчев, бер глянит пруя груст бак, онус думней\n",
            "невата\n",
            "в обружень\n",
            "о потья жсей трак тажно с нин них, было гдуча,\n",
            "\n",
            "\n",
            "Phrase 10:\n",
            " мой дядя самых честных правильдий негди: копел, хоботся разв оненный гозноких мую ех ублець стятик\n",
            "а субам сселець;\n",
            "а стоем димашин, глазах.\n",
            "всё на за, ще висть подлыпилиня,\n",
            "вчет праскуейь,\n",
            "топ кож веспетутань\n",
            "был уподенятейда молгой, зобо\n",
            "двилнукой, ж кожинылкое сулиет дилные жынна слуг пнодвам кодас,.\n",
            "и вдретой мажя, оненный поре сестом;\n",
            "конеля,\n",
            "деетивнлязьливех!\n",
            "\n",
            "\n",
            "\n",
            "xlvii\n",
            "\n",
            "так чушот когда!\n",
            "ого свотный нькам рука милужла.\n",
            "деро.\n",
            "собридной отьчута коку млезьен накуго ющы вогренной морой неграов,\n",
            "\n",
            "\n"
          ]
        }
      ],
      "source": [
        "generated_phrases = [\n",
        "    generate_sample(\n",
        "        char_rnn,\n",
        "        ' мой дядя самых честных правил',\n",
        "        max_length=500,\n",
        "        temperature=1.\n",
        "    ).replace('<sos>', '')\n",
        "    for _ in range(10)\n",
        "]\n",
        "\n",
        "for idx, phrase in enumerate(generated_phrases):\n",
        "    print(f\"Phrase {idx + 1}:\")\n",
        "    print(phrase)\n",
        "    print(\"\\n\")"
      ]
    },
    {
      "cell_type": "markdown",
      "metadata": {
        "id": "YwFvHiKP12gS"
      },
      "source": [
        "### Сдача задания\n",
        "Сгенерируйте десять последовательностей длиной 500, используя строку ' мой дядя самых честных правил'. Температуру для генерации выберите самостоятельно на основании визуального качества генериуремого текста. Не забудьте удалить все технические токены в случае их наличия.\n",
        "\n",
        "Сгенерированную последовательность сохрание в переменную `generated_phrase` и сдайте сгенерированный ниже файл в контест."
      ]
    },
    {
      "cell_type": "code",
      "execution_count": 20,
      "metadata": {
        "id": "sB5p9j9T12gT"
      },
      "outputs": [],
      "source": [
        "seed_phrase = ' мой дядя самых честных правил'"
      ]
    },
    {
      "cell_type": "code",
      "execution_count": 22,
      "metadata": {
        "id": "Qe9T5-Op12gT",
        "colab": {
          "base_uri": "https://localhost:8080/"
        },
        "outputId": "c053b62f-78c1-4f70-8308-d9bc0d16e16b"
      },
      "outputs": [
        {
          "output_type": "stream",
          "name": "stdout",
          "text": [
            "Phrase 1:\n",
            " мой дядя самых честных правилоем ны ж,\n",
            "\n",
            "\n",
            "\n",
            "iv\n",
            "\n",
            "ол;\n",
            "татькаме читась тлепенной дельялм оем, оненноют, она хо балонь, поэта\n",
            "бы,\n",
            "горнукульо оногры, и чилом уный, нишкой (до на посночупор.\n",
            "\n",
            "\n",
            "\n",
            "\n",
            "xxxviii\n",
            "\n",
            "визми нем насвиссярых;\n",
            "ограст\n",
            "сголновут,\n",
            "не поещесь кодарых на тушле,\n",
            "свочный руда чти смлегской он госьскай садусто,\n",
            "дытот поньгой шонедему\n",
            "потраникум;\n",
            "так пят люб и эта прем мой росницей.\n",
            "\n",
            "\n",
            "\n",
            "xvii\n",
            "\n",
            "и бодь бислемы яхлавил.\n",
            "\n",
            "оlii\n",
            "\n",
            "тасьенья тохоц предна;\n",
            "соной : шакородой крувстрир в и не гором,, находно\n",
            "\n",
            "\n",
            "Phrase 2:\n",
            " мой дядя самых честных правилет.\n",
            "\n",
            "\n",
            "\n",
            "xxx 5хыни; накак муз нежки кар катнаен очгое, кребежны дреча помит изнели, так жикск мялки иглины тровод тел был суть,\n",
            "горам,\n",
            "ветракий забаля,\n",
            "и друделул гостиная,\n",
            "выти прязной тето чедень.\n",
            "\n",
            "\n",
            "\n",
            "vii\n",
            "\n",
            "сат.\n",
            "\n",
            "пой слисторды статьетны,\n",
            "хетвит.\n",
            "х те сел,\n",
            "чти мылчен додуд – круги\n",
            "испокижу приводит, млюбилов?\n",
            "забесчь,\n",
            "ихокся,\n",
            "всечпомои стородел вых дветных на,\n",
            "клевил\n",
            "вотрыжье дуто ей \n",
            "\n",
            "\n",
            "xxv\n",
            "\n",
            "чта,\n",
            "и недил.\n",
            "\n",
            "\n",
            "\n",
            "ii\n",
            "\n",
            "вмомый,\n",
            "и на вдеммыши жуснье любелет.\n",
            "\n",
            "\n",
            "\n",
            "xxvi\n",
            "\n",
            "\n",
            "не поброт\n",
            "\n",
            "\n",
            "Phrase 3:\n",
            " мой дядя самых честных правильсячтны\n",
            "доне\n",
            "мораженя,\n",
            "имета нашаея ль ябримоне смезведных повним неть рас\n",
            "вчем свят.\n",
            "\n",
            "\n",
            "\n",
            "xvxi\n",
            "\n",
            "прокмеейчет сват,\n",
            "потьян,\n",
            "скровот ещей, от ма еще почья.\n",
            "\n",
            "\n",
            "xxiiii\n",
            "\n",
            "и вак гобатьять педаны савор–\n",
            "успосуеко\n",
            "увна жестрая вдудуть без свот малки совиль буденье\n",
            "руя разирый.\n",
            "та\n",
            "собке содол ный поднобе порстил, сежля:\n",
            "сепдура не девно, остиледей\n",
            "выладн\n",
            "вась дбентит\n",
            "и вомней.\n",
            "носой\n",
            "чанось (и зiая, в тало злюдушь слукой улезда;\n",
            "пракраонасто оовтой слоньят уне.\n",
            "гавстию, томный,\n",
            "и\n",
            "\n",
            "\n",
            "Phrase 4:\n",
            " мой дядя самых честных правилью лутий,\n",
            "прабней оне годяли товлем\n",
            "весет, жнечувы.\n",
            "не был пнят бусжев мочне ресюпя, – сж аружный –вольти вероко, ках же егда моланьля ужет; грестить утукос.\n",
            "\n",
            "\n",
            "ii\n",
            "\n",
            "вседела…\n",
            "не мы о поране;\n",
            "серьго и блескавейника;\n",
            "в,\n",
            "траний:\n",
            "базвеще, и духы, мсквае постахь\n",
            "у пернонь, лиць очтре жл балюни. заматрянят.\n",
            "\n",
            "\n",
            "\n",
            "xxxviii\n",
            "\n",
            "та, мижалы;\n",
            "квепреньем? в слюнею с пила с нагдокове.\n",
            "пцафить вхят,\n",
            "что богдракя,\n",
            "прабраску…\n",
            "на томка мажненьом фражно,\n",
            "ей ноц свачал ивляне,\n",
            "о пер?\n",
            "ужетнив к\n",
            "\n",
            "\n",
            "Phrase 5:\n",
            " мой дядя самых честных правильскорово свыл\n",
            "однах вишя биле,\n",
            "страм.\n",
            "и серабыла\n",
            "вамит роввизклон онста,\n",
            "и табы то баросствонье с! даповавное мочкир,\n",
            "рагуно чиким внонома сосквителья»\n",
            "как неньсогов и круж на ане нисе данею дылыть,\n",
            "и горга краби почча воденей шудой ремие ж лить,\n",
            "езду нашу мне дахров с духной.\n",
            "порьшо,\n",
            "начу.на  кажм\n",
            "и бажелем,\n",
            "осло куменя,\n",
            "зела гара крызалься же, вопдерла стоноряной\n",
            "садостний тряннол черкай\n",
            "взоб встедыестьет\n",
            "лебий,\n",
            "он уногоми мела льговонной\n",
            "важдет,\n",
            "игбалки очеж огре\n",
            "\n",
            "\n",
            "Phrase 6:\n",
            " мой дядя самых честных правилю? (чамылей, модка на замисльенв, милет, горлейно жеч поркаед идпества не жнени:\n",
            "\n",
            "\n",
            "\n",
            "\n",
            "xliii \n",
            "\n",
            "\n",
            "xxeil\n",
            "полянкар, тых онся ртивики пралики сонотсяе\n",
            "вета глюбод, вмогнобод.\n",
            "ташленри.\n",
            "я иду серсястивые лонодшеня нель модилоны.\n",
            "непретовный изрымяти\n",
            "дучитно\n",
            "свая стра себдей\n",
            "пререседый, не кволани\n",
            "\n",
            "\n",
            "xxviiii\n",
            "\n",
            "сказидят и блечтат дногом и можеедной голкуко саз пырой даскором\n",
            "есластит ечтахря вету.\n",
            "на сшучьвым ледьнык хетле везала свовный.\n",
            "\n",
            "оl прегот.\n",
            "ленья, мнигот ешак\n",
            "влобся о\n",
            "\n",
            "\n",
            "Phrase 7:\n",
            " мой дядя самых честных правильпосто и прюэтый от:\n",
            "nогродал, кручный пзалыто ох зал желе,\n",
            "нень он!\n",
            "клебид;\n",
            "достиях» —\n",
            "на с на! жсла,\n",
            "кели, и, прамады посвом рена.\n",
            "ликные,\n",
            "хоститимьнимаанты\n",
            "дуда\n",
            "вошги предбисные пегла быд\n",
            "кажать?\n",
            "\n",
            "\n",
            "\n",
            "xxxxii\n",
            "\n",
            "кредать: встьанкий рыбупо мень дерях гдару? вар стирае позвыляки,  трег на сетьбойлин.\n",
            "\n",
            "\n",
            "\n",
            "\n",
            "xxix\n",
            "\n",
            "тамит сернлены\n",
            "свие хозругет яна;\n",
            "на олно девяла в эшанала, госшив еда жерине,\n",
            "зи шаржиен, плепру угомое вной\n",
            "ни бед проской,\n",
            "он где, татья божуе жов.\n",
            "по срусталик\n",
            "\n",
            "\n",
            "Phrase 8:\n",
            " мой дядя самых честных правильсимибернал…\n",
            "он верки тластий, нак \n",
            "\n",
            "\n",
            "\n",
            "xiv\n",
            "\n",
            "в ниоть влягию подознойь зариливут,\n",
            "на сераньа,\n",
            "нем,\n",
            "в саидете\n",
            "даме идеры\n",
            "он отодети;\n",
            "и леци,\n",
            "илочев: в кризат\n",
            "о с беларно пречеж\n",
            "вмен\n",
            "не под-тичей риско лачцал.\n",
            "(се,\n",
            "\n",
            "доо. в рарные разь плий трестишам\n",
            "и шум;\n",
            "у паде жиm ещенье снаде люжина;\n",
            "пдо вовет пидимил,\n",
            "и был.\n",
            "о воги безмади не оне, лен безня?\n",
            "деслься кнавениньо;\n",
            "что взрось каду здановый; дам болка.\n",
            "и варном с мечт е нагов,р\n",
            "убонь быровуценся,\n",
            "прадригит ло,\n",
            "водаласка\n",
            "\n",
            "\n",
            "Phrase 9:\n",
            " мой дядя самых честных правилучь, отводовитв\n",
            "о в нико тат се…бедей;\n",
            "не обросыжаши…\n",
            "сддруса\n",
            "серномдат нетдижотвыша былный забо т сестодво\n",
            "он гериныhного друга он весто чвот не грым быдетмий.\n",
            "\n",
            "\n",
            "\n",
            "xxviii\n",
            "\n",
            "оне дубный до скак ичить змуждать у дилсян\n",
            "мовлин жедде силорьет свостили модал (прахлики с брю эмой\n",
            "доло\n",
            "порались\n",
            "и своеут пелько пясть ейу? лит упоихны\n",
            "он борятья,\n",
            "гоколь естом,\n",
            "и ранстсевый\n",
            "в веда!\n",
            "не молесось,\n",
            "весстевь, пороилад:\n",
            "лонать, чу, шу неся синуть,\n",
            "отво рижка еднечем обленоее леги фус\n",
            "\n",
            "\n",
            "Phrase 10:\n",
            " мой дядя самых честных правилюнывилеким пограгил ей сурого.\n",
            "тает и трушалы,\n",
            "в сихы не ней удилтный наятыли,\n",
            "домены\n",
            "прогою митышорти, грегно невешихам,\n",
            "и скруждый,\n",
            "прибудил ег счаменя прере васнов,\n",
            "довот, леги мруз жешельна;\n",
            "привле были межный гнаше пренам ей чикамный онейшился,\n",
            "стуту к истять в тажновенит рутьяя и гаречелан.\n",
            "\n",
            "\n",
            "\n",
            "xv.\n",
            "\n",
            "и вдетый, инееудилкой измюзя,\n",
            "холи.\n",
            "\n",
            "\n",
            "\n",
            "xxx\n",
            "\n",
            "длой угде не уморжной…\n",
            "чта омищят свавел; нешь болой\n",
            "и серить, забезрян дрос, биль и лозана\n",
            "\n",
            "\n",
            "\n",
            "xxxxvii\n",
            "\n",
            "татьяна онних вр\n",
            "\n",
            "\n"
          ]
        }
      ],
      "source": [
        "generated_phrases = [\n",
        "    generate_sample(\n",
        "        char_rnn,\n",
        "        ' мой дядя самых честных правил',\n",
        "        max_length=500,\n",
        "        temperature=1.0\n",
        "    ).replace('<sos>', '')\n",
        "    for _ in range(10)\n",
        "]\n",
        "\n",
        "for idx, phrase in enumerate(generated_phrases):\n",
        "    print(f\"Phrase {idx + 1}:\")\n",
        "    print(phrase)\n",
        "    print(\"\\n\")"
      ]
    },
    {
      "cell_type": "code",
      "execution_count": 23,
      "metadata": {
        "id": "kKTbJtIi12gT",
        "colab": {
          "base_uri": "https://localhost:8080/"
        },
        "outputId": "cf466597-96b5-4ab4-ce15-782ba07d55f7"
      },
      "outputs": [
        {
          "output_type": "stream",
          "name": "stdout",
          "text": [
            "File saved to `submission_dict_hw07.npy`\n"
          ]
        }
      ],
      "source": [
        "# do not change the code in the block below\n",
        "# __________start of block__________\n",
        "\n",
        "if 'generated_phrases' not in locals():\n",
        "    raise ValueError(\"Please, save generated phrases to `generated_phrases` variable\")\n",
        "\n",
        "for phrase in generated_phrases:\n",
        "\n",
        "    if not isinstance(phrase, str):\n",
        "        raise ValueError(\"The generated phrase should be a string\")\n",
        "\n",
        "    if len(phrase) != 500:\n",
        "        raise ValueError(\"The `generated_phrase` length should be equal to 500\")\n",
        "\n",
        "    assert all([x in set(tokens) for x in set(list(phrase))]), 'Unknown tokens detected, check your submission!'\n",
        "    \n",
        "\n",
        "submission_dict = {\n",
        "    'token_to_idx': token_to_idx,\n",
        "    'generated_phrases': generated_phrases\n",
        "}\n",
        "\n",
        "np.save('submission_dict_hw07.npy', submission_dict, allow_pickle=True)\n",
        "print('File saved to `submission_dict_hw07.npy`')\n",
        "# __________end of block__________"
      ]
    },
    {
      "cell_type": "markdown",
      "metadata": {
        "id": "l7ONIO0612gT"
      },
      "source": [
        "На этом задание завершено. Поздравляем!"
      ]
    }
  ],
  "metadata": {
    "accelerator": "GPU",
    "anaconda-cloud": {},
    "colab": {
      "provenance": []
    },
    "kernelspec": {
      "display_name": "Py3 Research",
      "language": "python",
      "name": "py3_research"
    },
    "language_info": {
      "codemirror_mode": {
        "name": "ipython",
        "version": 3
      },
      "file_extension": ".py",
      "mimetype": "text/x-python",
      "name": "python",
      "nbconvert_exporter": "python",
      "pygments_lexer": "ipython3",
      "version": "3.7.10"
    }
  },
  "nbformat": 4,
  "nbformat_minor": 0
}