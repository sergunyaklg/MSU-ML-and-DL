{
  "nbformat": 4,
  "nbformat_minor": 0,
  "metadata": {
    "colab": {
      "provenance": []
    },
    "kernelspec": {
      "name": "python3",
      "display_name": "Python 3"
    },
    "language_info": {
      "name": "python"
    }
  },
  "cells": [
    {
      "cell_type": "markdown",
      "source": [
        "# 7.2. Площади\n",
        "\n",
        "В этой задаче Вам требуется сравнить значения метрик для 4 различных алгоритмов. Для этого отредактируйте следующий код так, чтобы он соответствовал сформулированному заданию."
      ],
      "metadata": {
        "id": "3gwOwJTzuYfl"
      }
    },
    {
      "cell_type": "code",
      "execution_count": 1,
      "metadata": {
        "id": "rjX6v8Y8uImZ",
        "outputId": "7645c7ff-12f6-4bf2-adea-0f8c2dc5bdb0",
        "colab": {
          "base_uri": "https://localhost:8080/"
        }
      },
      "outputs": [
        {
          "output_type": "stream",
          "name": "stdout",
          "text": [
            "[0.92791005 0.99794239 0.98052616 0.99588477] [0.96447552 0.99875396 0.98754243 0.99741534]\n",
            "2 2\n"
          ]
        }
      ],
      "source": [
        "import numpy as np\n",
        "from sklearn.datasets import load_breast_cancer\n",
        "from sklearn.model_selection import train_test_split\n",
        "from sklearn.neighbors import KNeighborsClassifier\n",
        "from sklearn.linear_model import LogisticRegression\n",
        "from sklearn.tree import DecisionTreeClassifier\n",
        "from sklearn.svm import SVC\n",
        "from sklearn.preprocessing import StandardScaler\n",
        "from sklearn.metrics import roc_auc_score\n",
        "from sklearn.metrics import auc\n",
        "from sklearn.metrics import precision_recall_curve\n",
        "\n",
        "\n",
        "X, y = load_breast_cancer(return_X_y=True)\n",
        "X_train, x_test, y_train, y_test = train_test_split(\n",
        "    X, y, test_size=0.3, random_state=42\n",
        ")\n",
        "\n",
        "scaler = StandardScaler()\n",
        "scaler.fit(X_train)\n",
        "\n",
        "X_train_scaled = scaler.fit_transform(X_train)\n",
        "x_test_scaled = scaler.fit_transform(x_test)\n",
        "\n",
        "classifiers = [\n",
        "    DecisionTreeClassifier(random_state=42),\n",
        "    LogisticRegression(random_state=42),\n",
        "    KNeighborsClassifier(n_neighbors=5),\n",
        "    SVC(probability=True, random_state=42),\n",
        "]\n",
        "\n",
        "roc_auc_scores = np.empty(len(classifiers), dtype=np.float64)\n",
        "pr_auc_scores = np.empty(len(classifiers), dtype=np.float64)\n",
        "\n",
        "for i, classifier in enumerate(classifiers):\n",
        "    classifier.fit(X_train_scaled, y_train)\n",
        "    y_pred_proba = classifier.predict_proba(x_test_scaled)[:, 1]\n",
        "    roc_auc_scores[i] = roc_auc_score(y_test, y_pred_proba)\n",
        "\n",
        "    precision, recall, _ = precision_recall_curve(y_test, y_pred_proba)\n",
        "    pr_auc_scores[i] = auc(recall, precision)\n",
        "\n",
        "print(roc_auc_scores, pr_auc_scores)\n",
        "print(roc_auc_scores.argmax() + 1, pr_auc_scores.argmax() + 1)"
      ]
    },
    {
      "cell_type": "markdown",
      "source": [
        "## Примечания\n",
        "\n",
        "1. Обратите внимание, что StandardScaler может влиять на результаты работы алгоритмов. Поэтому рекомендуем его использовать.\n",
        "\n",
        "2. Когда мы разбиваем данные на train и test, мы должны понимать, что **все** алгоритмы должны обучаться **только на train**. Test при обучении **не используется**. Более того, в реальной жизни мы вообще ничего не знаем про test. Поэтому StandardScaler нужно обучать только на X_train, а к X_test делать только transform (**не** fit_transform)."
      ],
      "metadata": {
        "id": "PMPsE9S9N-nv"
      }
    }
  ]
}