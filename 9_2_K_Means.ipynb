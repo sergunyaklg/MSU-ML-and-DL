{
  "nbformat": 4,
  "nbformat_minor": 0,
  "metadata": {
    "colab": {
      "provenance": []
    },
    "kernelspec": {
      "name": "python3",
      "display_name": "Python 3"
    },
    "language_info": {
      "name": "python"
    }
  },
  "cells": [
    {
      "cell_type": "markdown",
      "source": [
        "# 9.2. Алгоритм KMeans\n",
        "\n",
        "На лекции вам была предложена реализация k-means \"руками\", без применения библиотечных реализаций. Но эта реализация была предложена исключительно для двумерных векторов. Ваша задача - написать класс `KMeans`, в рамках которого должны быть реализованы следующие функции:\n",
        "\n",
        "* `.fit(X, n_clusters)` - функция вычисления оптимальных центров кластеров, соответствующих логике алгоритма KMeans\n",
        "* `.predict(X)` - функция кластеризации объектов из выборки `X`\n",
        "\n",
        "Конструктор класса `KMeans` должен принимать 2 аргумента:\n",
        "* `K` - количество кластеров\n",
        "* `init` - аргумент, принимающий массив размерности $K × M$, где $M$ - размерность векторов признаковых описаний объектов, а $K$ - число кластеров, содержащий координаты исходным приближений центров кластеров\n",
        "\n",
        "Алгоритм не должен содержать элементов готовых решений из любых библиотек, пользоваться можно только библиотеками `numpy` и `collections`. В качестве метрики используйте обычное [евклидово расстояние](https://colab.research.google.com/drive/1BODfwl4F3c7h0CE-t88zavkZWyNe8n5G#scrollTo=9M9zA6jeFDfb).\n",
        "\n",
        "В качестве критерия останова алгоритма можно использовать следующее утверждение: *алгоритм кластеризации сходится (останавливается), когда изменение центров кластеров на очередной итерации алгоритма незначительно. Т.е. **все попарные расстояния между обновлёнными и предшествующими значениями центров кластеров на очередной итерации не превосходят некоторого маленького числа (в нашем случае рассмотрим 0.001)**.*\n",
        "\n",
        "В математических терминах это можно записать так. Пусть $\\vec{C^i_1}, \\vec{C^i_2}, ... \\vec{C^i_K}$ - центры кластеров, полученные на итерации алгоритма с номером $i$, а $\\vec{C^{i-1}_1}, \\vec{C^{i-1}_2}, ... \\vec{C^{i-1}_K}$ - центры кластеров, полученные на предыдущей итерации с номером $i-1$. Тогда алгоритм кластеризации завершится после итерации i, если:\n",
        "\n",
        "$$max\\left(||\\vec{C^i_1}-\\vec{C^{i-1}_1}||, ||\\vec{C^i_2}-\\vec{C^{i-1}_2}||, ... ||\\vec{C^i_K}-\\vec{C^{i-1}_K}||\\right)\\leq0.001$$"
      ],
      "metadata": {
        "id": "pkwdWo4-4VkK"
      }
    },
    {
      "cell_type": "markdown",
      "source": [
        "Шаблон класса:"
      ],
      "metadata": {
        "id": "FN81dDcO4lcO"
      }
    },
    {
      "cell_type": "code",
      "source": [
        "import numpy as np\n",
        "from collections import defaultdict\n",
        "\n",
        "class KMeans(object):\n",
        "    def __init__(self, K, init):\n",
        "        self.K = K\n",
        "        self.centroids = np.array(init)\n",
        "\n",
        "    def _euclidean_distance(self, a, b):\n",
        "        return np.sqrt(np.sum((a - b) ** 2, axis=-1))\n",
        "\n",
        "    def _update_centroids(self, X, labels):\n",
        "        new_centroids = np.zeros_like(self.centroids)\n",
        "        for k in range(self.K):\n",
        "            new_centroids[k] = np.mean(X[labels == k], axis=0)\n",
        "        return new_centroids\n",
        "\n",
        "    def _assign_labels(self, X):\n",
        "        distances = self._euclidean_distance(X[:, np.newaxis], self.centroids)\n",
        "        return np.argmin(distances, axis=-1)\n",
        "\n",
        "    def fit(self, X, tol=0.001, max_iter=300):\n",
        "        for _ in range(max_iter):\n",
        "            labels = self._assign_labels(X)\n",
        "            new_centroids = self._update_centroids(X, labels)\n",
        "            max_shift = np.max(self._euclidean_distance(self.centroids, new_centroids))\n",
        "            self.centroids = new_centroids\n",
        "\n",
        "            if max_shift <= tol:\n",
        "                break\n",
        "\n",
        "    def predict(self, X):\n",
        "        return self._assign_labels(X)\n"
      ],
      "metadata": {
        "id": "PGW711H54ZLd"
      },
      "execution_count": null,
      "outputs": []
    },
    {
      "cell_type": "markdown",
      "source": [
        "## Пример входных данных\n",
        "\n",
        "В данном случае имеется в виду только формат данных. Гарантируется, что в данных будут выделенные кластеры."
      ],
      "metadata": {
        "id": "2n8-YzWfrjmA"
      }
    },
    {
      "cell_type": "code",
      "source": [
        "import numpy as np\n",
        "M = 4\n",
        "N = 2\n",
        "X = np.random.randn(N, M)\n",
        "X"
      ],
      "metadata": {
        "colab": {
          "base_uri": "https://localhost:8080/"
        },
        "id": "rE5e-2O1rjAw",
        "outputId": "0e31a2ea-7905-4e6b-f865-a0b8ded5ebd3"
      },
      "execution_count": null,
      "outputs": [
        {
          "output_type": "execute_result",
          "data": {
            "text/plain": [
              "array([[ 0.95317157, -0.82637714,  0.8665903 , -0.44646181],\n",
              "       [-1.2617108 , -0.10260555,  0.97089117, -1.07764103]])"
            ]
          },
          "metadata": {},
          "execution_count": 3
        }
      ]
    },
    {
      "cell_type": "markdown",
      "source": [
        "## Примечания\n",
        "\n",
        "1. Иногда при сдаче решения в системе Яндекс. Контест может возникать ошибка TL. Она обычно возникает либо из-за внутренних задержек тестирующей системы, либо из-за недостаточно быстрого решения. В первом случае можно попробовать отправить решение снова (при этом стоит добавить в начало или конец программы строчку с ключевым словом pass - оно не влияет на логику работы программы, но позволяет повторно загрузить одинаковое решение в систему). Во втором случае нужно попытаться оптимизировать программу - понять, в каких фрагментах программа может работать медленно. Здесь рекомендуем обратить внимание на содержание циклов (в частности, проверьте, что в программе нигде не может возникнуть бесконечных циклов, которые никогда не завершаются).\n",
        "\n",
        "2. В predict нужно возвращать объект типа numpy.array(), а не классический Python list.\n",
        "\n",
        "3. Обратите внимание, что в задачах кластеризации в функции fit и predict можно подавать одинаковые наборы данных. Но на стадии fit мы осуществляем обучение, подбирая центры кластеров на основании входных данных. А в predict мы предсказываем метки кластеров уже на основании найденных центров кластеров."
      ],
      "metadata": {
        "id": "BTw9zJ3ZUKTF"
      }
    }
  ]
}