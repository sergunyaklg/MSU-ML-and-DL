{
  "nbformat": 4,
  "nbformat_minor": 0,
  "metadata": {
    "colab": {
      "provenance": []
    },
    "kernelspec": {
      "name": "python3",
      "display_name": "Python 3"
    },
    "language_info": {
      "name": "python"
    }
  },
  "cells": [
    {
      "cell_type": "markdown",
      "source": [
        "# 5.1. Параметры\n",
        "\n",
        "Ваша задача - обучить классификатор на стандартном датасете Ирисов Фишера решать задачу предсказания сорта цветка по описанию 4 его параметров.\n",
        "\n",
        "Ваша задача - дополнить приведённый ниже код таким образом, чтобы конфигурация обучения была следующей:\n",
        "\n",
        "1) В тренировочную выборку должно быть включено 60% всех объектов, выбранных из датасета случайным образом (поскольку датасет очень простой для обучения модели, 60% тренировочных объектов более, чем достаточно)\n",
        "\n",
        "2) Максимальная глубина построенного дерева не должна превышать 3\n",
        "\n",
        "3) В качестве критерия ветвления используйте критерий Джини\n",
        "\n",
        "4) Random state и random seed установите равными 42\n",
        "\n",
        "В качестве ответа к задаче укажите оценку качества классификации на тестовой выборке при помощи accuracy_score. Ответ округлите **вниз** до сотых. Разделитель дробной и целой части в ответе - **точка**."
      ],
      "metadata": {
        "id": "pGXrwlf3h3zt"
      }
    },
    {
      "cell_type": "markdown",
      "source": [
        "Код для заполнения:"
      ],
      "metadata": {
        "id": "96rTPks0iIOh"
      }
    },
    {
      "cell_type": "code",
      "source": [
        "import pandas as pd\n",
        "import numpy as np\n",
        "import math\n",
        "\n",
        "np.random.seed(42)\n",
        "\n",
        "# Импортируйте необходимые классы и функции из соответствующих модулей sklearn\n",
        "from sklearn.model_selection import train_test_split\n",
        "from sklearn.tree import DecisionTreeClassifier\n",
        "from sklearn.metrics import accuracy_score\n",
        "\n",
        "from sklearn.datasets import load_iris\n",
        "\n",
        "X, y = load_iris(return_X_y=True)\n",
        "\n",
        "X_train, x_test, y_train, y_test = train_test_split(X, y, test_size=0.4, random_state=42)\n",
        "clf = DecisionTreeClassifier(max_depth=3, criterion=\"gini\", random_state=42)\n",
        "\n",
        "clf.fit(X_train, y_train)\n",
        "preds = clf.predict(x_test)\n",
        "\n",
        "acc = accuracy_score(y_test, preds)\n",
        "\n",
        "print(f\"{math.floor(acc * 100) / 100:.2f}\")\n"
      ],
      "metadata": {
        "id": "uLD-_TQXiG75",
        "outputId": "0345e8fa-3e12-40f0-8645-9fd74ea02a5d",
        "colab": {
          "base_uri": "https://localhost:8080/"
        }
      },
      "execution_count": 4,
      "outputs": [
        {
          "output_type": "stream",
          "name": "stdout",
          "text": [
            "0.98\n"
          ]
        }
      ]
    },
    {
      "cell_type": "markdown",
      "source": [
        "## Примечания\n",
        "\n",
        "1. Для округления можно использовать одну из операций: round(), floor() (подумайте, какая операция здесь подходит лучше). Также можно использовать форматированный вывод и f-строки.\n",
        "\n",
        "2. Обратите внимание на соотношение тренировочной и тестовой выборки (оно указано в условии задачи)."
      ],
      "metadata": {
        "id": "PwhN3ve_-S0v"
      }
    }
  ]
}