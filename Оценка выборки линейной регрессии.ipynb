{
 "cells": [
  {
   "cell_type": "code",
   "execution_count": 6,
   "metadata": {},
   "outputs": [
    {
     "name": "stdout",
     "output_type": "stream",
     "text": [
      "R^2 = 0.8804493891389981\n"
     ]
    }
   ],
   "source": [
    "import numpy as np\n",
    "from sklearn.linear_model import LinearRegression\n",
    "\n",
    "# загрузка данных\n",
    "data = np.load('1.npy')\n",
    "X = data[:, 0].reshape(-1, 1)\n",
    "y = data[:, 1]\n",
    "\n",
    "# инициализация модели и обучение\n",
    "regressor = LinearRegression()\n",
    "regressor.fit(X, y)\n",
    "\n",
    "# вычисление коэффициента детерминации\n",
    "r2 = regressor.score(X, y)\n",
    "\n",
    "print('R^2 =', r2)"
   ]
  },
  {
   "cell_type": "code",
   "execution_count": 7,
   "metadata": {},
   "outputs": [
    {
     "name": "stdout",
     "output_type": "stream",
     "text": [
      "R^2 = 0.6049683606213805\n"
     ]
    }
   ],
   "source": [
    "import numpy as np\n",
    "from sklearn.linear_model import LinearRegression\n",
    "\n",
    "# загрузка данных\n",
    "data = np.load('2.npy')\n",
    "X = data[:, 0].reshape(-1, 1)\n",
    "y = data[:, 1]\n",
    "\n",
    "# инициализация модели и обучение\n",
    "regressor = LinearRegression()\n",
    "regressor.fit(X, y)\n",
    "\n",
    "# вычисление коэффициента детерминации\n",
    "r2 = regressor.score(X, y)\n",
    "\n",
    "print('R^2 =', r2)"
   ]
  },
  {
   "cell_type": "code",
   "execution_count": 8,
   "metadata": {},
   "outputs": [
    {
     "name": "stdout",
     "output_type": "stream",
     "text": [
      "R^2 = 0.9436398449037311\n"
     ]
    }
   ],
   "source": [
    "import numpy as np\n",
    "from sklearn.linear_model import LinearRegression\n",
    "\n",
    "# загрузка данных\n",
    "data = np.load('3.npy')\n",
    "X = data[:, 0].reshape(-1, 1)\n",
    "y = data[:, 1]\n",
    "\n",
    "# инициализация модели и обучение\n",
    "regressor = LinearRegression()\n",
    "regressor.fit(X, y)\n",
    "\n",
    "# вычисление коэффициента детерминации\n",
    "r2 = regressor.score(X, y)\n",
    "\n",
    "print('R^2 =', r2)"
   ]
  },
  {
   "cell_type": "code",
   "execution_count": 9,
   "metadata": {},
   "outputs": [
    {
     "name": "stdout",
     "output_type": "stream",
     "text": [
      "R^2 = 0.18606626924708636\n"
     ]
    }
   ],
   "source": [
    "import numpy as np\n",
    "from sklearn.linear_model import LinearRegression\n",
    "\n",
    "# загрузка данных\n",
    "data = np.load('4.npy')\n",
    "X = data[:, 0].reshape(-1, 1)\n",
    "y = data[:, 1]\n",
    "\n",
    "# инициализация модели и обучение\n",
    "regressor = LinearRegression()\n",
    "regressor.fit(X, y)\n",
    "\n",
    "# вычисление коэффициента детерминации\n",
    "r2 = regressor.score(X, y)\n",
    "\n",
    "print('R^2 =', r2)"
   ]
  },
  {
   "cell_type": "code",
   "execution_count": 10,
   "metadata": {},
   "outputs": [
    {
     "name": "stdout",
     "output_type": "stream",
     "text": [
      "R^2 = 0.848322909283604\n"
     ]
    }
   ],
   "source": [
    "import numpy as np\n",
    "from sklearn.linear_model import LinearRegression\n",
    "\n",
    "# загрузка данных\n",
    "data = np.load('5.npy')\n",
    "X = data[:, 0].reshape(-1, 1)\n",
    "y = data[:, 1]\n",
    "\n",
    "# инициализация модели и обучение\n",
    "regressor = LinearRegression()\n",
    "regressor.fit(X, y)\n",
    "\n",
    "# вычисление коэффициента детерминации\n",
    "r2 = regressor.score(X, y)\n",
    "\n",
    "print('R^2 =', r2)"
   ]
  }
 ],
 "metadata": {
  "kernelspec": {
   "display_name": "Python 3",
   "language": "python",
   "name": "python3"
  },
  "language_info": {
   "codemirror_mode": {
    "name": "ipython",
    "version": 3
   },
   "file_extension": ".py",
   "mimetype": "text/x-python",
   "name": "python",
   "nbconvert_exporter": "python",
   "pygments_lexer": "ipython3",
   "version": "3.11.0rc1"
  },
  "orig_nbformat": 4
 },
 "nbformat": 4,
 "nbformat_minor": 2
}
